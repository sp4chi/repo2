{
 "cells": [
  {
   "cell_type": "markdown",
   "metadata": {},
   "source": [
    "## Backgroun Subtraction - Kaushik Gohain Bora\n"
   ]
  },
  {
   "cell_type": "code",
   "execution_count": 5,
   "metadata": {},
   "outputs": [
    {
     "ename": "ModuleNotFoundError",
     "evalue": "No module named 'cv2'",
     "output_type": "error",
     "traceback": [
      "\u001b[1;31m---------------------------------------------------------------------------\u001b[0m",
      "\u001b[1;31mModuleNotFoundError\u001b[0m                       Traceback (most recent call last)",
      "\u001b[1;32m<ipython-input-5-392fdb39c8aa>\u001b[0m in \u001b[0;36m<module>\u001b[1;34m\u001b[0m\n\u001b[0;32m      4\u001b[0m \u001b[1;32mimport\u001b[0m \u001b[0mos\u001b[0m\u001b[1;33m\u001b[0m\u001b[1;33m\u001b[0m\u001b[0m\n\u001b[0;32m      5\u001b[0m \u001b[1;32mimport\u001b[0m \u001b[0msys\u001b[0m\u001b[1;33m\u001b[0m\u001b[1;33m\u001b[0m\u001b[0m\n\u001b[1;32m----> 6\u001b[1;33m \u001b[1;32mimport\u001b[0m \u001b[0mcv2\u001b[0m\u001b[1;33m\u001b[0m\u001b[1;33m\u001b[0m\u001b[0m\n\u001b[0m",
      "\u001b[1;31mModuleNotFoundError\u001b[0m: No module named 'cv2'"
     ]
    }
   ],
   "source": [
    "import numpy as np\n",
    "import matplotlib.image as mpimg\n",
    "import matplotlib.pyplot as plt\n",
    "import os\n",
    "import sys\n",
    "import cv2"
   ]
  },
  {
   "cell_type": "code",
   "execution_count": null,
   "metadata": {},
   "outputs": [],
   "source": [
    "def initBackground(initImage):\n",
    "    img_arr = cv2.imread(initImage)\n",
    "    mean = img_arr\n",
    "    variance = 9*np.ones(img_arr.shape)\n",
    "    return(mean,variance)"
   ]
  },
  {
   "cell_type": "code",
   "execution_count": null,
   "metadata": {},
   "outputs": [],
   "source": [
    "def ForegroundDetection(img_file,mean,variance,lmda):\n",
    "    img = cv2.imread(img_file)\n",
    "    d = img-mean\n",
    "    y = variance*(lmda**2)\n",
    "    d_2 = np.square(d)\n",
    "    I = d_2 - y\n",
    "    mask = np.all(I>0,axis=2)\n",
    "    rI = 255*mask.astype(int)\n",
    "    rI = rI.astype(np.uint8)\n",
    "    return(rI)"
   ]
  },
  {
   "cell_type": "code",
   "execution_count": null,
   "metadata": {},
   "outputs": [],
   "source": [
    "def Voting(rI,eta,m,n):\n",
    "    r,c = rI.shape\n",
    "    cI = np.zeros((rI.shape[0],rI.shape[1]))\n",
    "    for i in range(m,r-1-m):\n",
    "        for j in range(n,c-1-n):\n",
    "            img_patch = rI[i-m:i,j-n:j]\n",
    "            y_unq, counts = np.unique(img_patch,return_counts=True)\n",
    "            if len(counts)==1 and y_unq[0] == 1:\n",
    "                cI[i,j] = 255\n",
    "            if len(counts)>1:\n",
    "                if counts[1]>eta*m*n:\n",
    "                    cI[i,j]=255\n",
    "    cI = cI.astype(np.uint8)\n",
    "    return cI"
   ]
  },
  {
   "cell_type": "code",
   "execution_count": 2,
   "metadata": {},
   "outputs": [],
   "source": [
    "def meanvarUpdate(cI,img_path,M,V,alpha):\n",
    "    img = cv2.imread(img_path)\n",
    "    mean_upd = np.zeros(img.shape)\n",
    "    var_upd = np.zeros(img.shape)\n",
    "    d = img - M\n",
    "    d_2 = np.square(d)\n",
    "    for i in range(cI.shape[0]):\n",
    "        for j in range(cI.shape[1]):\n",
    "            if cI[i,j] == 0:\n",
    "                mean_upd[i,j,:] = (1-alpha)*M[i,j,:] + alpha*img[i,j,:]\n",
    "                var_upd[i,j,:] = (1-alpha)*(V[i,j,:] + alpha*d_2[i,j,:])\n",
    "                var_upd[i,j,:] = np.clip(var_upd[i,j,:],a_min=9,a_max=None)\n",
    "    return(mean_upd,var_upd)"
   ]
  },
  {
   "cell_type": "code",
   "execution_count": 3,
   "metadata": {},
   "outputs": [],
   "source": [
    "def Background_Subtraction(img_dir,lmda,eta,m,n,alpha):\n",
    "    img_file_name = os.listdir(img_dir)\n",
    "    initImage = os.path.join(img_dir,img_file_name[0])\n",
    "    mean, variance = initBackground(initImage)\n",
    "    \n",
    "    for i in range(1,19):\n",
    "        img_path = os.path.join(img_dir,img_file_name[i])\n",
    "        \n",
    "        fix, ax = plt.subplots(1,3,figsize=(10,10))\n",
    "        rI = ForegroundDetection(img_path,mean,variance,lmda)\n",
    "        ax[0].imshow(rI,cmap=\"gray\")\n",
    "        \n",
    "        cI = Voting(rI,eta,m,n)\n",
    "        mean,variance = meanvarUpdate(cI,img_path,mean,variance,alpha)\n",
    "        ax[1].imshow(cI,cmap=\"gray\")\n",
    "        \n",
    "        img = cv2.imread(img_path)\n",
    "        ax[2].imshow(img,cmap=\"gray\")\n",
    "        \n",
    "        plt.show()\n",
    "    return(mean,variance)"
   ]
  },
  {
   "cell_type": "code",
   "execution_count": 4,
   "metadata": {},
   "outputs": [
    {
     "name": "stdout",
     "output_type": "stream",
     "text": [
      "Using lambda as 0.7 and eta as 0.7\n"
     ]
    },
    {
     "ename": "FileNotFoundError",
     "evalue": "[WinError 3] The system cannot find the path specified: './Images'",
     "output_type": "error",
     "traceback": [
      "\u001b[1;31m---------------------------------------------------------------------------\u001b[0m",
      "\u001b[1;31mFileNotFoundError\u001b[0m                         Traceback (most recent call last)",
      "\u001b[1;32m<ipython-input-4-704c5658c540>\u001b[0m in \u001b[0;36m<module>\u001b[1;34m\u001b[0m\n\u001b[0;32m      5\u001b[0m     \u001b[1;32mfor\u001b[0m \u001b[0mlmda\u001b[0m \u001b[1;32min\u001b[0m \u001b[0mt\u001b[0m\u001b[1;33m:\u001b[0m\u001b[1;33m\u001b[0m\u001b[1;33m\u001b[0m\u001b[0m\n\u001b[0;32m      6\u001b[0m         \u001b[0mprint\u001b[0m\u001b[1;33m(\u001b[0m\u001b[1;34m\"Using lambda as {} and eta as {}\"\u001b[0m\u001b[1;33m.\u001b[0m\u001b[0mformat\u001b[0m\u001b[1;33m(\u001b[0m\u001b[0mlmda\u001b[0m\u001b[1;33m,\u001b[0m\u001b[0meta\u001b[0m\u001b[1;33m)\u001b[0m\u001b[1;33m)\u001b[0m\u001b[1;33m\u001b[0m\u001b[1;33m\u001b[0m\u001b[0m\n\u001b[1;32m----> 7\u001b[1;33m         \u001b[0mmean\u001b[0m\u001b[1;33m,\u001b[0m\u001b[0mvariance\u001b[0m \u001b[1;33m=\u001b[0m \u001b[0mBackground_Subtraction\u001b[0m\u001b[1;33m(\u001b[0m\u001b[1;34m\"./Images\"\u001b[0m\u001b[1;33m,\u001b[0m\u001b[0mlmda\u001b[0m\u001b[1;33m,\u001b[0m\u001b[0meta\u001b[0m\u001b[1;33m,\u001b[0m\u001b[1;36m8\u001b[0m\u001b[1;33m,\u001b[0m\u001b[1;36m8\u001b[0m\u001b[1;33m,\u001b[0m\u001b[1;36m0.8\u001b[0m\u001b[1;33m)\u001b[0m\u001b[1;33m\u001b[0m\u001b[1;33m\u001b[0m\u001b[0m\n\u001b[0m\u001b[0;32m      8\u001b[0m         \u001b[0mprint\u001b[0m\u001b[1;33m(\u001b[0m\u001b[1;34m\"\\n\"\u001b[0m\u001b[1;33m)\u001b[0m\u001b[1;33m\u001b[0m\u001b[1;33m\u001b[0m\u001b[0m\n",
      "\u001b[1;32m<ipython-input-3-a39208a00310>\u001b[0m in \u001b[0;36mBackground_Subtraction\u001b[1;34m(img_dir, lmda, eta, m, n, alpha)\u001b[0m\n\u001b[0;32m      1\u001b[0m \u001b[1;32mdef\u001b[0m \u001b[0mBackground_Subtraction\u001b[0m\u001b[1;33m(\u001b[0m\u001b[0mimg_dir\u001b[0m\u001b[1;33m,\u001b[0m\u001b[0mlmda\u001b[0m\u001b[1;33m,\u001b[0m\u001b[0meta\u001b[0m\u001b[1;33m,\u001b[0m\u001b[0mm\u001b[0m\u001b[1;33m,\u001b[0m\u001b[0mn\u001b[0m\u001b[1;33m,\u001b[0m\u001b[0malpha\u001b[0m\u001b[1;33m)\u001b[0m\u001b[1;33m:\u001b[0m\u001b[1;33m\u001b[0m\u001b[1;33m\u001b[0m\u001b[0m\n\u001b[1;32m----> 2\u001b[1;33m     \u001b[0mimg_file_name\u001b[0m \u001b[1;33m=\u001b[0m \u001b[0mos\u001b[0m\u001b[1;33m.\u001b[0m\u001b[0mlistdir\u001b[0m\u001b[1;33m(\u001b[0m\u001b[0mimg_dir\u001b[0m\u001b[1;33m)\u001b[0m\u001b[1;33m\u001b[0m\u001b[1;33m\u001b[0m\u001b[0m\n\u001b[0m\u001b[0;32m      3\u001b[0m     \u001b[0minitImage\u001b[0m \u001b[1;33m=\u001b[0m \u001b[0mos\u001b[0m\u001b[1;33m.\u001b[0m\u001b[0mpath\u001b[0m\u001b[1;33m.\u001b[0m\u001b[0mjoin\u001b[0m\u001b[1;33m(\u001b[0m\u001b[0mimg_dir\u001b[0m\u001b[1;33m,\u001b[0m\u001b[0mimg_file_name\u001b[0m\u001b[1;33m[\u001b[0m\u001b[1;36m0\u001b[0m\u001b[1;33m]\u001b[0m\u001b[1;33m)\u001b[0m\u001b[1;33m\u001b[0m\u001b[1;33m\u001b[0m\u001b[0m\n\u001b[0;32m      4\u001b[0m     \u001b[0mmean\u001b[0m\u001b[1;33m,\u001b[0m \u001b[0mvariance\u001b[0m \u001b[1;33m=\u001b[0m \u001b[0minitBackground\u001b[0m\u001b[1;33m(\u001b[0m\u001b[0minitImage\u001b[0m\u001b[1;33m)\u001b[0m\u001b[1;33m\u001b[0m\u001b[1;33m\u001b[0m\u001b[0m\n\u001b[0;32m      5\u001b[0m \u001b[1;33m\u001b[0m\u001b[0m\n",
      "\u001b[1;31mFileNotFoundError\u001b[0m: [WinError 3] The system cannot find the path specified: './Images'"
     ]
    }
   ],
   "source": [
    "v = [i for i in np.arange(0.70,0.90,0.02)]\n",
    "t = [i for i in np.arange(0.70,0.90,0.02)]\n",
    "\n",
    "for eta in v:\n",
    "    for lmda in t:\n",
    "        print(\"Using lambda as {} and eta as {}\".format(lmda,eta))\n",
    "        mean,variance = Background_Subtraction(\"./Images\",lmda,eta,8,8,0.8)\n",
    "        print(\"\\n\")"
   ]
  },
  {
   "cell_type": "code",
   "execution_count": null,
   "metadata": {},
   "outputs": [],
   "source": []
  }
 ],
 "metadata": {
  "kernelspec": {
   "display_name": "Python 3",
   "language": "python",
   "name": "python3"
  },
  "language_info": {
   "codemirror_mode": {
    "name": "ipython",
    "version": 3
   },
   "file_extension": ".py",
   "mimetype": "text/x-python",
   "name": "python",
   "nbconvert_exporter": "python",
   "pygments_lexer": "ipython3",
   "version": "3.8.3"
  }
 },
 "nbformat": 4,
 "nbformat_minor": 4
}
